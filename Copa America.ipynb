{
 "cells": [
  {
   "cell_type": "markdown",
   "metadata": {},
   "source": [
    "# Predictor de partidos en la copa America Brasil 2019"
   ]
  },
  {
   "cell_type": "code",
   "execution_count": 62,
   "metadata": {},
   "outputs": [],
   "source": [
    "import itertools\n",
    "import numpy as np\n",
    "import matplotlib.pyplot as mpl\n",
    "import random\n",
    "import math\n",
    "import pandas as pd\n",
    "from sklearn.linear_model import LinearRegression\n",
    "from numpy import genfromtxt"
   ]
  },
  {
   "cell_type": "markdown",
   "metadata": {},
   "source": [
    "Cargar los datos"
   ]
  },
  {
   "cell_type": "code",
   "execution_count": 68,
   "metadata": {},
   "outputs": [],
   "source": [
    "dataset = pd.read_csv('dataset/data2.csv')\n",
    "x_dataset = pd.read_csv('dataset/x_test.csv')\n",
    "x_test=x_dataset.iloc[:,:6]\n",
    "y_gana=dataset['gana']\n",
    "y_empate=dataset['empate']\n",
    "y_pierde=dataset['pierde']\n"
   ]
  },
  {
   "cell_type": "code",
   "execution_count": 108,
   "metadata": {},
   "outputs": [],
   "source": [
    "n_len=6\n",
    "x=dataset.iloc[:,:n_len]\n",
    "# Feature Scaling\n",
    "from sklearn.preprocessing import StandardScaler\n",
    "sc_x = StandardScaler()\n",
    "X = sc_x.fit_transform(x)"
   ]
  },
  {
   "cell_type": "markdown",
   "metadata": {},
   "source": [
    "Split"
   ]
  },
  {
   "cell_type": "code",
   "execution_count": 126,
   "metadata": {},
   "outputs": [],
   "source": [
    "from sklearn.model_selection import train_test_split\n",
    "\n",
    "X_train_g, X_test_g, y_train_g, y_test_g = train_test_split(X, y_gana, test_size=0.3, random_state=42)\n",
    "X_train_p, X_test_p, y_train_p, y_test_p = train_test_split(X, y_pierde, test_size=0.3, random_state=42)\n",
    "X_train_e, X_test_e, y_train_e, y_test_e = train_test_split(X, y_empata, test_size=0.3, random_state=42)"
   ]
  },
  {
   "cell_type": "markdown",
   "metadata": {},
   "source": [
    "Alimentanto y prediciendo\n"
   ]
  },
  {
   "cell_type": "code",
   "execution_count": 127,
   "metadata": {},
   "outputs": [],
   "source": [
    "regression_model= LinearRegression()\n",
    "\n",
    "regression_model.fit(X_train_g,y_train_g)\n",
    "y_pred_gana = regression_model.predict(X_test_g)\n",
    "\n",
    "regression_model.fit(X_train_e,y_train_e)\n",
    "y_pred_empata = regression_model.predict(X_test_e)\n",
    "\n",
    "regression_model.fit(X_train_p,y_train_p)\n",
    "y_pred_pierde = regression_model.predict(X_test_p)\n",
    "\n",
    "\n"
   ]
  },
  {
   "cell_type": "markdown",
   "metadata": {},
   "source": [
    "Sabe si gana empata o pierde"
   ]
  },
  {
   "cell_type": "code",
   "execution_count": 110,
   "metadata": {},
   "outputs": [],
   "source": [
    "def definir_match(X, y_pred_gana, y_pred_empata, y_pred_pierde):\n",
    "    for i in range(len(y_pred_gana)):\n",
    "        if (y_pred_gana[i]>y_pred_empata[i] and y_pred_gana[i]>y_pred_pierde[i]):\n",
    "            return 'gana'\n",
    "        elif (y_pred_empata[i]>y_pred_gana[i] and y_pred_empata[i]>y_pred_pierde[i]):\n",
    "            return 'empata'\n",
    "        elif (y_pred_pierde[i]>y_pred_empata[i] and y_pred_pierde[i]>y_pred_gana[i]):\n",
    "            return 'pierde'\n",
    "    "
   ]
  },
  {
   "cell_type": "code",
   "execution_count": 111,
   "metadata": {},
   "outputs": [],
   "source": []
  },
  {
   "cell_type": "code",
   "execution_count": 128,
   "metadata": {},
   "outputs": [
    {
     "name": "stdout",
     "output_type": "stream",
     "text": [
      "empata\n"
     ]
    }
   ],
   "source": [
    "y_predicted = definir_match(X_test, y_pred_gana, y_pred_empata, y_pred_pierde)\n",
    "print(y_predicted)"
   ]
  },
  {
   "cell_type": "code",
   "execution_count": 132,
   "metadata": {},
   "outputs": [
    {
     "name": "stdout",
     "output_type": "stream",
     "text": [
      "[[0]\n",
      " [0]\n",
      " [1]\n",
      " [0]\n",
      " [0]\n",
      " [0]]\n",
      "[[ 0.73884435]\n",
      " [ 0.12258567]\n",
      " [-0.03895958]\n",
      " [ 1.00534625]\n",
      " [ 1.36107533]\n",
      " [ 0.00419132]]\n"
     ]
    }
   ],
   "source": [
    "from sklearn.metrics import f1_score\n",
    "print(y_test_e)\n",
    "print(y_pred_empata)\n",
    "\n",
    "#f1_score(y_test_e, y_pred_empata, average='macro')  "
   ]
  }
 ],
 "metadata": {
  "kernelspec": {
   "display_name": "Python 2",
   "language": "python",
   "name": "python2"
  },
  "language_info": {
   "codemirror_mode": {
    "name": "ipython",
    "version": 2
   },
   "file_extension": ".py",
   "mimetype": "text/x-python",
   "name": "python",
   "nbconvert_exporter": "python",
   "pygments_lexer": "ipython2",
   "version": "2.7.16"
  }
 },
 "nbformat": 4,
 "nbformat_minor": 2
}
